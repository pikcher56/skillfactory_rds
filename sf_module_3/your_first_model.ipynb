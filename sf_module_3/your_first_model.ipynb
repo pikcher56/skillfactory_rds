{
 "cells": [
  {
   "cell_type": "markdown",
   "metadata": {},
   "source": [
    "# Загрузка Pandas и очистка данных"
   ]
  },
  {
   "cell_type": "code",
   "execution_count": 2,
   "metadata": {},
   "outputs": [],
   "source": [
    "import pandas as pd\n",
    "pd.set_option('display.max_columns', 50)"
   ]
  },
  {
   "cell_type": "code",
   "execution_count": 3,
   "metadata": {},
   "outputs": [],
   "source": [
    "df = pd.read_csv('main_task.csv')"
   ]
  },
  {
   "cell_type": "code",
   "execution_count": 4,
   "metadata": {},
   "outputs": [],
   "source": [
    "# Ваш код по очистке данных и генерации новых признаков\n",
    "# При необходимости добавьте ячейки"
   ]
  },
  {
   "cell_type": "code",
   "execution_count": 5,
   "metadata": {},
   "outputs": [
    {
     "data": {
      "text/html": [
       "<div>\n",
       "<style scoped>\n",
       "    .dataframe tbody tr th:only-of-type {\n",
       "        vertical-align: middle;\n",
       "    }\n",
       "\n",
       "    .dataframe tbody tr th {\n",
       "        vertical-align: top;\n",
       "    }\n",
       "\n",
       "    .dataframe thead th {\n",
       "        text-align: right;\n",
       "    }\n",
       "</style>\n",
       "<table border=\"1\" class=\"dataframe\">\n",
       "  <thead>\n",
       "    <tr style=\"text-align: right;\">\n",
       "      <th></th>\n",
       "      <th>Restaurant_id</th>\n",
       "      <th>City</th>\n",
       "      <th>Cuisine Style</th>\n",
       "      <th>Ranking</th>\n",
       "      <th>Rating</th>\n",
       "      <th>Price Range</th>\n",
       "      <th>Number of Reviews</th>\n",
       "      <th>Reviews</th>\n",
       "      <th>URL_TA</th>\n",
       "      <th>ID_TA</th>\n",
       "    </tr>\n",
       "  </thead>\n",
       "  <tbody>\n",
       "    <tr>\n",
       "      <td>0</td>\n",
       "      <td>id_5569</td>\n",
       "      <td>Paris</td>\n",
       "      <td>['European', 'French', 'International']</td>\n",
       "      <td>5570.0</td>\n",
       "      <td>3.5</td>\n",
       "      <td>$$ - $$$</td>\n",
       "      <td>194.0</td>\n",
       "      <td>[['Good food at your doorstep', 'A good hotel ...</td>\n",
       "      <td>/Restaurant_Review-g187147-d1912643-Reviews-R_...</td>\n",
       "      <td>d1912643</td>\n",
       "    </tr>\n",
       "    <tr>\n",
       "      <td>1</td>\n",
       "      <td>id_1535</td>\n",
       "      <td>Stockholm</td>\n",
       "      <td>NaN</td>\n",
       "      <td>1537.0</td>\n",
       "      <td>4.0</td>\n",
       "      <td>NaN</td>\n",
       "      <td>10.0</td>\n",
       "      <td>[['Unique cuisine', 'Delicious Nepalese food']...</td>\n",
       "      <td>/Restaurant_Review-g189852-d7992032-Reviews-Bu...</td>\n",
       "      <td>d7992032</td>\n",
       "    </tr>\n",
       "    <tr>\n",
       "      <td>2</td>\n",
       "      <td>id_352</td>\n",
       "      <td>London</td>\n",
       "      <td>['Japanese', 'Sushi', 'Asian', 'Grill', 'Veget...</td>\n",
       "      <td>353.0</td>\n",
       "      <td>4.5</td>\n",
       "      <td>$$$$</td>\n",
       "      <td>688.0</td>\n",
       "      <td>[['Catch up with friends', 'Not exceptional'],...</td>\n",
       "      <td>/Restaurant_Review-g186338-d8632781-Reviews-RO...</td>\n",
       "      <td>d8632781</td>\n",
       "    </tr>\n",
       "    <tr>\n",
       "      <td>3</td>\n",
       "      <td>id_3456</td>\n",
       "      <td>Berlin</td>\n",
       "      <td>NaN</td>\n",
       "      <td>3458.0</td>\n",
       "      <td>5.0</td>\n",
       "      <td>NaN</td>\n",
       "      <td>3.0</td>\n",
       "      <td>[[], []]</td>\n",
       "      <td>/Restaurant_Review-g187323-d1358776-Reviews-Es...</td>\n",
       "      <td>d1358776</td>\n",
       "    </tr>\n",
       "    <tr>\n",
       "      <td>4</td>\n",
       "      <td>id_615</td>\n",
       "      <td>Munich</td>\n",
       "      <td>['German', 'Central European', 'Vegetarian Fri...</td>\n",
       "      <td>621.0</td>\n",
       "      <td>4.0</td>\n",
       "      <td>$$ - $$$</td>\n",
       "      <td>84.0</td>\n",
       "      <td>[['Best place to try a Bavarian food', 'Nice b...</td>\n",
       "      <td>/Restaurant_Review-g187309-d6864963-Reviews-Au...</td>\n",
       "      <td>d6864963</td>\n",
       "    </tr>\n",
       "  </tbody>\n",
       "</table>\n",
       "</div>"
      ],
      "text/plain": [
       "  Restaurant_id       City                                      Cuisine Style  \\\n",
       "0       id_5569      Paris            ['European', 'French', 'International']   \n",
       "1       id_1535  Stockholm                                                NaN   \n",
       "2        id_352     London  ['Japanese', 'Sushi', 'Asian', 'Grill', 'Veget...   \n",
       "3       id_3456     Berlin                                                NaN   \n",
       "4        id_615     Munich  ['German', 'Central European', 'Vegetarian Fri...   \n",
       "\n",
       "   Ranking  Rating Price Range  Number of Reviews  \\\n",
       "0   5570.0     3.5    $$ - $$$              194.0   \n",
       "1   1537.0     4.0         NaN               10.0   \n",
       "2    353.0     4.5        $$$$              688.0   \n",
       "3   3458.0     5.0         NaN                3.0   \n",
       "4    621.0     4.0    $$ - $$$               84.0   \n",
       "\n",
       "                                             Reviews  \\\n",
       "0  [['Good food at your doorstep', 'A good hotel ...   \n",
       "1  [['Unique cuisine', 'Delicious Nepalese food']...   \n",
       "2  [['Catch up with friends', 'Not exceptional'],...   \n",
       "3                                           [[], []]   \n",
       "4  [['Best place to try a Bavarian food', 'Nice b...   \n",
       "\n",
       "                                              URL_TA     ID_TA  \n",
       "0  /Restaurant_Review-g187147-d1912643-Reviews-R_...  d1912643  \n",
       "1  /Restaurant_Review-g189852-d7992032-Reviews-Bu...  d7992032  \n",
       "2  /Restaurant_Review-g186338-d8632781-Reviews-RO...  d8632781  \n",
       "3  /Restaurant_Review-g187323-d1358776-Reviews-Es...  d1358776  \n",
       "4  /Restaurant_Review-g187309-d6864963-Reviews-Au...  d6864963  "
      ]
     },
     "execution_count": 5,
     "metadata": {},
     "output_type": "execute_result"
    }
   ],
   "source": [
    "df.head()"
   ]
  },
  {
   "cell_type": "code",
   "execution_count": 24,
   "metadata": {},
   "outputs": [
    {
     "name": "stdout",
     "output_type": "stream",
     "text": [
      "/Restaurant_Review-g187147-d1912643-Reviews-R_Yves-Paris_Ile_de_France.html\n",
      "/Restaurant_Review-g189852-d7992032-Reviews-Buddha_Nepal-Stockholm.html\n",
      "/Restaurant_Review-g186338-d8632781-Reviews-ROKA_Mayfair-London_England.html\n",
      "/Restaurant_Review-g187323-d1358776-Reviews-Esplanade-Berlin.html\n",
      "/Restaurant_Review-g187309-d6864963-Reviews-Augustiner_Schutzen_Garten-Munich_Upper_Bavaria_Bavaria.html\n",
      "/Restaurant_Review-g274924-d3199765-Reviews-Ristorante_Italiano_San_Cono-Bratislava_Bratislava_Region.html\n",
      "/Restaurant_Review-g190454-d12845029-Reviews-Grunstern-Vienna.html\n"
     ]
    }
   ],
   "source": [
    "print(df.loc[0]['URL_TA'])\n",
    "print(df.loc[1]['URL_TA'])\n",
    "print(df.loc[2]['URL_TA'])\n",
    "print(df.loc[3]['URL_TA'])\n",
    "print(df.loc[4]['URL_TA'])\n",
    "print(df.loc[7]['URL_TA'])\n",
    "print(df.loc[8]['URL_TA'])"
   ]
  },
  {
   "cell_type": "code",
   "execution_count": 39,
   "metadata": {},
   "outputs": [
    {
     "name": "stdout",
     "output_type": "stream",
     "text": [
      "/Restaurant_Review-g189852-d783448-Reviews-Non_solo_bar-Stockholm.html\n"
     ]
    }
   ],
   "source": [
    "# print(df[df['Restaurant_id'] == 'id_1610'])\n",
    "print(df.loc[9653]['URL_TA'])"
   ]
  },
  {
   "cell_type": "code",
   "execution_count": 8,
   "metadata": {},
   "outputs": [
    {
     "name": "stdout",
     "output_type": "stream",
     "text": [
      "39980\n"
     ]
    }
   ],
   "source": [
    "# print(len(df['Restaurant_id'].unique()))\n",
    "print(len(df['URL_TA'].unique()))"
   ]
  },
  {
   "cell_type": "code",
   "execution_count": 37,
   "metadata": {},
   "outputs": [
    {
     "data": {
      "text/html": [
       "<div>\n",
       "<style scoped>\n",
       "    .dataframe tbody tr th:only-of-type {\n",
       "        vertical-align: middle;\n",
       "    }\n",
       "\n",
       "    .dataframe tbody tr th {\n",
       "        vertical-align: top;\n",
       "    }\n",
       "\n",
       "    .dataframe thead th {\n",
       "        text-align: right;\n",
       "    }\n",
       "</style>\n",
       "<table border=\"1\" class=\"dataframe\">\n",
       "  <thead>\n",
       "    <tr style=\"text-align: right;\">\n",
       "      <th></th>\n",
       "      <th>Restaurant_id</th>\n",
       "      <th>City</th>\n",
       "      <th>Cuisine Style</th>\n",
       "      <th>Ranking</th>\n",
       "      <th>Rating</th>\n",
       "      <th>Price Range</th>\n",
       "      <th>Number of Reviews</th>\n",
       "      <th>Reviews</th>\n",
       "      <th>URL_TA</th>\n",
       "      <th>ID_TA</th>\n",
       "    </tr>\n",
       "  </thead>\n",
       "  <tbody>\n",
       "    <tr>\n",
       "      <td>6653</td>\n",
       "      <td>id_915</td>\n",
       "      <td>Milan</td>\n",
       "      <td>['Seafood']</td>\n",
       "      <td>917.0</td>\n",
       "      <td>4.0</td>\n",
       "      <td>$$ - $$$</td>\n",
       "      <td>222.0</td>\n",
       "      <td>[['The best LUNCH MENU I have ever had. Perio....</td>\n",
       "      <td>/Restaurant_Review-g187849-d2468286-Reviews-Ac...</td>\n",
       "      <td>d2468286</td>\n",
       "    </tr>\n",
       "  </tbody>\n",
       "</table>\n",
       "</div>"
      ],
      "text/plain": [
       "     Restaurant_id   City Cuisine Style  Ranking  Rating Price Range  \\\n",
       "6653        id_915  Milan   ['Seafood']    917.0     4.0    $$ - $$$   \n",
       "\n",
       "      Number of Reviews                                            Reviews  \\\n",
       "6653              222.0  [['The best LUNCH MENU I have ever had. Perio....   \n",
       "\n",
       "                                                 URL_TA     ID_TA  \n",
       "6653  /Restaurant_Review-g187849-d2468286-Reviews-Ac...  d2468286  "
      ]
     },
     "execution_count": 37,
     "metadata": {},
     "output_type": "execute_result"
    }
   ],
   "source": [
    "df[6653:6654]"
   ]
  },
  {
   "cell_type": "code",
   "execution_count": 10,
   "metadata": {},
   "outputs": [
    {
     "data": {
      "text/plain": [
       "/Restaurant_Review-g187514-d7809594-Reviews-La_Guapa-Madrid.html                           2\n",
       "/Restaurant_Review-g187514-d13002276-Reviews-Delish_Vegan_Doughnuts-Madrid.html            2\n",
       "/Restaurant_Review-g187514-d4600226-Reviews-Cafeteria_Teresa-Madrid.html                   2\n",
       "/Restaurant_Review-g187514-d697406-Reviews-Al_Mounia-Madrid.html                           2\n",
       "/Restaurant_Review-g187514-d11674463-Reviews-Beerhouse-Madrid.html                         2\n",
       "                                                                                          ..\n",
       "/Restaurant_Review-g187849-d3691545-Reviews-Il_Pierrot_Di_Garofalo-Milan_Lombardy.html     1\n",
       "/Restaurant_Review-g187514-d7353506-Reviews-La_pentola_magica-Madrid.html                  1\n",
       "/Restaurant_Review-g187791-d12435434-Reviews-Avocado_Bar-Rome_Lazio.html                   1\n",
       "/Restaurant_Review-g186338-d12948875-Reviews-Coupettes-London_England.html                 1\n",
       "/Restaurant_Review-g187497-d986430-Reviews-Restaurante_Morrina-Barcelona_Catalonia.html    1\n",
       "Name: URL_TA, Length: 39980, dtype: int64"
      ]
     },
     "execution_count": 10,
     "metadata": {},
     "output_type": "execute_result"
    }
   ],
   "source": [
    "df['URL_TA'].value_counts()"
   ]
  },
  {
   "cell_type": "code",
   "execution_count": 12,
   "metadata": {},
   "outputs": [
    {
     "name": "stdout",
     "output_type": "stream",
     "text": [
      "      Restaurant_id    City                     Cuisine Style  Ranking  \\\n",
      "15525       id_3967  Madrid  ['American', 'Spanish', 'Asian']   3969.0   \n",
      "19388       id_4331  Madrid  ['American', 'Spanish', 'Asian']   4333.0   \n",
      "\n",
      "       Rating Price Range  Number of Reviews   Reviews  \\\n",
      "15525     3.5         NaN               61.0  [[], []]   \n",
      "19388     3.5         NaN               61.0  [[], []]   \n",
      "\n",
      "                                                  URL_TA     ID_TA  \n",
      "15525  /Restaurant_Review-g187514-d7809594-Reviews-La...  d7809594  \n",
      "19388  /Restaurant_Review-g187514-d7809594-Reviews-La...  d7809594  \n"
     ]
    }
   ],
   "source": [
    "print(df[df['URL_TA'] == '/Restaurant_Review-g187514-d7809594-Reviews-La_Guapa-Madrid.html'])"
   ]
  },
  {
   "cell_type": "code",
   "execution_count": 13,
   "metadata": {},
   "outputs": [
    {
     "name": "stdout",
     "output_type": "stream",
     "text": [
      "39980\n"
     ]
    }
   ],
   "source": [
    "print(len(df['ID_TA'].unique()))"
   ]
  },
  {
   "cell_type": "code",
   "execution_count": 17,
   "metadata": {},
   "outputs": [
    {
     "data": {
      "text/html": [
       "<div>\n",
       "<style scoped>\n",
       "    .dataframe tbody tr th:only-of-type {\n",
       "        vertical-align: middle;\n",
       "    }\n",
       "\n",
       "    .dataframe tbody tr th {\n",
       "        vertical-align: top;\n",
       "    }\n",
       "\n",
       "    .dataframe thead th {\n",
       "        text-align: right;\n",
       "    }\n",
       "</style>\n",
       "<table border=\"1\" class=\"dataframe\">\n",
       "  <thead>\n",
       "    <tr style=\"text-align: right;\">\n",
       "      <th></th>\n",
       "      <th>Restaurant_id</th>\n",
       "      <th>City</th>\n",
       "      <th>Cuisine Style</th>\n",
       "      <th>Ranking</th>\n",
       "      <th>Rating</th>\n",
       "      <th>Price Range</th>\n",
       "      <th>Number of Reviews</th>\n",
       "      <th>Reviews</th>\n",
       "      <th>URL_TA</th>\n",
       "      <th>ID_TA</th>\n",
       "    </tr>\n",
       "  </thead>\n",
       "  <tbody>\n",
       "    <tr>\n",
       "      <td>1</td>\n",
       "      <td>id_1535</td>\n",
       "      <td>Stockholm</td>\n",
       "      <td>NaN</td>\n",
       "      <td>1537.0</td>\n",
       "      <td>4.0</td>\n",
       "      <td>NaN</td>\n",
       "      <td>10.0</td>\n",
       "      <td>[['Unique cuisine', 'Delicious Nepalese food']...</td>\n",
       "      <td>/Restaurant_Review-g189852-d7992032-Reviews-Bu...</td>\n",
       "      <td>d7992032</td>\n",
       "    </tr>\n",
       "    <tr>\n",
       "      <td>135</td>\n",
       "      <td>id_237</td>\n",
       "      <td>Stockholm</td>\n",
       "      <td>['Swedish', 'Scandinavian', 'Vegetarian Friend...</td>\n",
       "      <td>238.0</td>\n",
       "      <td>4.5</td>\n",
       "      <td>$$ - $$$</td>\n",
       "      <td>154.0</td>\n",
       "      <td>[['Friendly evening with my sons', 'Proviant Ö...</td>\n",
       "      <td>/Restaurant_Review-g189852-d1496204-Reviews-Pr...</td>\n",
       "      <td>d1496204</td>\n",
       "    </tr>\n",
       "    <tr>\n",
       "      <td>156</td>\n",
       "      <td>id_1280</td>\n",
       "      <td>Stockholm</td>\n",
       "      <td>NaN</td>\n",
       "      <td>1281.0</td>\n",
       "      <td>4.5</td>\n",
       "      <td>NaN</td>\n",
       "      <td>2.0</td>\n",
       "      <td>[['Family-friendly and fast!'], ['12/07/2017']]</td>\n",
       "      <td>/Restaurant_Review-g189852-d12949592-Reviews-G...</td>\n",
       "      <td>d12949592</td>\n",
       "    </tr>\n",
       "    <tr>\n",
       "      <td>257</td>\n",
       "      <td>id_128</td>\n",
       "      <td>Stockholm</td>\n",
       "      <td>['Italian', 'Mediterranean', 'European', 'Vege...</td>\n",
       "      <td>129.0</td>\n",
       "      <td>4.5</td>\n",
       "      <td>$$ - $$$</td>\n",
       "      <td>183.0</td>\n",
       "      <td>[['Fantastic birthday dinner', 'Chic'], ['01/0...</td>\n",
       "      <td>/Restaurant_Review-g189852-d5949148-Reviews-Un...</td>\n",
       "      <td>d5949148</td>\n",
       "    </tr>\n",
       "    <tr>\n",
       "      <td>303</td>\n",
       "      <td>id_538</td>\n",
       "      <td>Stockholm</td>\n",
       "      <td>['American', 'Steakhouse', 'Bar', 'Barbecue']</td>\n",
       "      <td>539.0</td>\n",
       "      <td>4.0</td>\n",
       "      <td>$$ - $$$</td>\n",
       "      <td>82.0</td>\n",
       "      <td>[['Best Bourbon Bar. Ever', 'A different kind ...</td>\n",
       "      <td>/Restaurant_Review-g189852-d780673-Reviews-Sad...</td>\n",
       "      <td>d780673</td>\n",
       "    </tr>\n",
       "    <tr>\n",
       "      <td>...</td>\n",
       "      <td>...</td>\n",
       "      <td>...</td>\n",
       "      <td>...</td>\n",
       "      <td>...</td>\n",
       "      <td>...</td>\n",
       "      <td>...</td>\n",
       "      <td>...</td>\n",
       "      <td>...</td>\n",
       "      <td>...</td>\n",
       "      <td>...</td>\n",
       "    </tr>\n",
       "    <tr>\n",
       "      <td>39809</td>\n",
       "      <td>id_416</td>\n",
       "      <td>Stockholm</td>\n",
       "      <td>['Middle Eastern', 'Persian', 'Vegetarian Frie...</td>\n",
       "      <td>417.0</td>\n",
       "      <td>4.0</td>\n",
       "      <td>$$ - $$$</td>\n",
       "      <td>134.0</td>\n",
       "      <td>[['Fancy Persian restaurant with great servic....</td>\n",
       "      <td>/Restaurant_Review-g189852-d4858640-Reviews-Sh...</td>\n",
       "      <td>d4858640</td>\n",
       "    </tr>\n",
       "    <tr>\n",
       "      <td>39854</td>\n",
       "      <td>id_1981</td>\n",
       "      <td>Stockholm</td>\n",
       "      <td>NaN</td>\n",
       "      <td>1984.0</td>\n",
       "      <td>3.5</td>\n",
       "      <td>NaN</td>\n",
       "      <td>3.0</td>\n",
       "      <td>[['Good generous salads', 'Salads any way you ...</td>\n",
       "      <td>/Restaurant_Review-g189852-d6413474-Reviews-Ni...</td>\n",
       "      <td>d6413474</td>\n",
       "    </tr>\n",
       "    <tr>\n",
       "      <td>39868</td>\n",
       "      <td>id_1802</td>\n",
       "      <td>Stockholm</td>\n",
       "      <td>['Indian']</td>\n",
       "      <td>1805.0</td>\n",
       "      <td>3.5</td>\n",
       "      <td>$$ - $$$</td>\n",
       "      <td>2.0</td>\n",
       "      <td>[['Good food, boring interior'], ['08/10/2012']]</td>\n",
       "      <td>/Restaurant_Review-g189852-d1138210-Reviews-Cu...</td>\n",
       "      <td>d1138210</td>\n",
       "    </tr>\n",
       "    <tr>\n",
       "      <td>39992</td>\n",
       "      <td>id_13</td>\n",
       "      <td>Stockholm</td>\n",
       "      <td>['Swedish', 'Scandinavian', 'Vegetarian Friend...</td>\n",
       "      <td>14.0</td>\n",
       "      <td>4.5</td>\n",
       "      <td>$$ - $$$</td>\n",
       "      <td>1162.0</td>\n",
       "      <td>[['Great Viking Dinner', 'A foot stompingly go...</td>\n",
       "      <td>/Restaurant_Review-g189852-d2560559-Reviews-Ai...</td>\n",
       "      <td>d2560559</td>\n",
       "    </tr>\n",
       "    <tr>\n",
       "      <td>39997</td>\n",
       "      <td>id_1649</td>\n",
       "      <td>Stockholm</td>\n",
       "      <td>['Japanese', 'Sushi']</td>\n",
       "      <td>1652.0</td>\n",
       "      <td>4.5</td>\n",
       "      <td>NaN</td>\n",
       "      <td>4.0</td>\n",
       "      <td>[['Good by swedish standards', 'A hidden jewel...</td>\n",
       "      <td>/Restaurant_Review-g189852-d947615-Reviews-Sus...</td>\n",
       "      <td>d947615</td>\n",
       "    </tr>\n",
       "  </tbody>\n",
       "</table>\n",
       "<p>820 rows × 10 columns</p>\n",
       "</div>"
      ],
      "text/plain": [
       "      Restaurant_id       City  \\\n",
       "1           id_1535  Stockholm   \n",
       "135          id_237  Stockholm   \n",
       "156         id_1280  Stockholm   \n",
       "257          id_128  Stockholm   \n",
       "303          id_538  Stockholm   \n",
       "...             ...        ...   \n",
       "39809        id_416  Stockholm   \n",
       "39854       id_1981  Stockholm   \n",
       "39868       id_1802  Stockholm   \n",
       "39992         id_13  Stockholm   \n",
       "39997       id_1649  Stockholm   \n",
       "\n",
       "                                           Cuisine Style  Ranking  Rating  \\\n",
       "1                                                    NaN   1537.0     4.0   \n",
       "135    ['Swedish', 'Scandinavian', 'Vegetarian Friend...    238.0     4.5   \n",
       "156                                                  NaN   1281.0     4.5   \n",
       "257    ['Italian', 'Mediterranean', 'European', 'Vege...    129.0     4.5   \n",
       "303        ['American', 'Steakhouse', 'Bar', 'Barbecue']    539.0     4.0   \n",
       "...                                                  ...      ...     ...   \n",
       "39809  ['Middle Eastern', 'Persian', 'Vegetarian Frie...    417.0     4.0   \n",
       "39854                                                NaN   1984.0     3.5   \n",
       "39868                                         ['Indian']   1805.0     3.5   \n",
       "39992  ['Swedish', 'Scandinavian', 'Vegetarian Friend...     14.0     4.5   \n",
       "39997                              ['Japanese', 'Sushi']   1652.0     4.5   \n",
       "\n",
       "      Price Range  Number of Reviews  \\\n",
       "1             NaN               10.0   \n",
       "135      $$ - $$$              154.0   \n",
       "156           NaN                2.0   \n",
       "257      $$ - $$$              183.0   \n",
       "303      $$ - $$$               82.0   \n",
       "...           ...                ...   \n",
       "39809    $$ - $$$              134.0   \n",
       "39854         NaN                3.0   \n",
       "39868    $$ - $$$                2.0   \n",
       "39992    $$ - $$$             1162.0   \n",
       "39997         NaN                4.0   \n",
       "\n",
       "                                                 Reviews  \\\n",
       "1      [['Unique cuisine', 'Delicious Nepalese food']...   \n",
       "135    [['Friendly evening with my sons', 'Proviant Ö...   \n",
       "156      [['Family-friendly and fast!'], ['12/07/2017']]   \n",
       "257    [['Fantastic birthday dinner', 'Chic'], ['01/0...   \n",
       "303    [['Best Bourbon Bar. Ever', 'A different kind ...   \n",
       "...                                                  ...   \n",
       "39809  [['Fancy Persian restaurant with great servic....   \n",
       "39854  [['Good generous salads', 'Salads any way you ...   \n",
       "39868   [['Good food, boring interior'], ['08/10/2012']]   \n",
       "39992  [['Great Viking Dinner', 'A foot stompingly go...   \n",
       "39997  [['Good by swedish standards', 'A hidden jewel...   \n",
       "\n",
       "                                                  URL_TA      ID_TA  \n",
       "1      /Restaurant_Review-g189852-d7992032-Reviews-Bu...   d7992032  \n",
       "135    /Restaurant_Review-g189852-d1496204-Reviews-Pr...   d1496204  \n",
       "156    /Restaurant_Review-g189852-d12949592-Reviews-G...  d12949592  \n",
       "257    /Restaurant_Review-g189852-d5949148-Reviews-Un...   d5949148  \n",
       "303    /Restaurant_Review-g189852-d780673-Reviews-Sad...    d780673  \n",
       "...                                                  ...        ...  \n",
       "39809  /Restaurant_Review-g189852-d4858640-Reviews-Sh...   d4858640  \n",
       "39854  /Restaurant_Review-g189852-d6413474-Reviews-Ni...   d6413474  \n",
       "39868  /Restaurant_Review-g189852-d1138210-Reviews-Cu...   d1138210  \n",
       "39992  /Restaurant_Review-g189852-d2560559-Reviews-Ai...   d2560559  \n",
       "39997  /Restaurant_Review-g189852-d947615-Reviews-Sus...    d947615  \n",
       "\n",
       "[820 rows x 10 columns]"
      ]
     },
     "execution_count": 17,
     "metadata": {},
     "output_type": "execute_result"
    }
   ],
   "source": [
    "st = df[df['City'] == 'Stockholm']\n",
    "st"
   ]
  },
  {
   "cell_type": "code",
   "execution_count": 18,
   "metadata": {},
   "outputs": [
    {
     "name": "stdout",
     "output_type": "stream",
     "text": [
      "/Restaurant_Review-g189852-d7992032-Reviews-Buddha_Nepal-Stockholm.html\n",
      "/Restaurant_Review-g189852-d1496204-Reviews-Proviant_Ostermalm-Stockholm.html\n",
      "/Restaurant_Review-g189852-d12949592-Reviews-Gandhi_Grondal-Stockholm.html\n",
      "/Restaurant_Review-g189852-d5949148-Reviews-Un_Poco-Stockholm.html\n",
      "/Restaurant_Review-g189852-d780673-Reviews-Saddle_Sabre-Stockholm.html\n",
      "/Restaurant_Review-g189852-d8774485-Reviews-STHLM_Brunch_Club-Stockholm.html\n",
      "/Restaurant_Review-g189852-d5936523-Reviews-Pub_Diset-Stockholm.html\n",
      "/Restaurant_Review-g189852-d13001385-Reviews-T8ng_Stockholm-Stockholm.html\n",
      "/Restaurant_Review-g189852-d3478764-Reviews-Legumes-Stockholm.html\n",
      "/Restaurant_Review-g189852-d3898172-Reviews-Duvel_cafe-Stockholm.html\n"
     ]
    }
   ],
   "source": [
    "for index, row in st[:10].iterrows():\n",
    "    print(row['URL_TA'])"
   ]
  },
  {
   "cell_type": "code",
   "execution_count": 21,
   "metadata": {},
   "outputs": [],
   "source": [
    "# df.info()\n",
    "?pd.get_dummies"
   ]
  },
  {
   "cell_type": "code",
   "execution_count": 18,
   "metadata": {},
   "outputs": [],
   "source": [
    "# df.drop(['Restaurant_id', 'City', 'Cuisine Style', 'Price Range', 'Reviews', 'URL_TA', 'ID_TA'], axis=1, inplace=True)"
   ]
  },
  {
   "cell_type": "code",
   "execution_count": 31,
   "metadata": {},
   "outputs": [],
   "source": [
    "df.fillna(0, inplace=True)"
   ]
  },
  {
   "cell_type": "markdown",
   "metadata": {},
   "source": [
    "# Разбиваем датафрейм на части, необходимые для обучения и тестирования модели"
   ]
  },
  {
   "cell_type": "code",
   "execution_count": 32,
   "metadata": {},
   "outputs": [],
   "source": [
    "# Х - данные с информацией о ресторанах, у - целевая переменная (рейтинги ресторанов)\n",
    "X = df.drop(['Rating'], axis = 1)\n",
    "y = df['Rating']"
   ]
  },
  {
   "cell_type": "code",
   "execution_count": 33,
   "metadata": {},
   "outputs": [],
   "source": [
    "# Загружаем специальный инструмент для разбивки:\n",
    "from sklearn.model_selection import train_test_split"
   ]
  },
  {
   "cell_type": "code",
   "execution_count": 34,
   "metadata": {},
   "outputs": [],
   "source": [
    "# Наборы данных с меткой \"train\" будут использоваться для обучения модели, \"test\" - для тестирования.\n",
    "# Для тестирования мы будем использовать 25% от исходного датасета.\n",
    "X_train, X_test, y_train, y_test = train_test_split(X, y, test_size=0.25)"
   ]
  },
  {
   "cell_type": "markdown",
   "metadata": {},
   "source": [
    "# Создаём, обучаем и тестируем модель"
   ]
  },
  {
   "cell_type": "code",
   "execution_count": 35,
   "metadata": {},
   "outputs": [],
   "source": [
    "# Импортируем необходимые библиотеки:\n",
    "from sklearn.ensemble import RandomForestRegressor # инструмент для создания и обучения модели\n",
    "from sklearn import metrics # инструменты для оценки точности модели"
   ]
  },
  {
   "cell_type": "code",
   "execution_count": 36,
   "metadata": {},
   "outputs": [],
   "source": [
    "# Создаём модель\n",
    "regr = RandomForestRegressor(n_estimators=100)\n",
    "\n",
    "# Обучаем модель на тестовом наборе данных\n",
    "regr.fit(X_train, y_train)\n",
    "\n",
    "# Используем обученную модель для предсказания рейтинга ресторанов в тестовой выборке.\n",
    "# Предсказанные значения записываем в переменную y_pred\n",
    "y_pred = regr.predict(X_test)"
   ]
  },
  {
   "cell_type": "code",
   "execution_count": 37,
   "metadata": {},
   "outputs": [
    {
     "name": "stdout",
     "output_type": "stream",
     "text": [
      "MAE: 0.42716987229437225\n"
     ]
    }
   ],
   "source": [
    "# Сравниваем предсказанные значения (y_pred) с реальными (y_test), и смотрим насколько они в среднем отличаются\n",
    "# Метрика называется Mean Absolute Error (MAE) и показывает среднее отклонение предсказанных значений от фактических.\n",
    "print('MAE:', metrics.mean_absolute_error(y_test, y_pred))"
   ]
  },
  {
   "cell_type": "code",
   "execution_count": null,
   "metadata": {},
   "outputs": [],
   "source": []
  }
 ],
 "metadata": {
  "kernelspec": {
   "display_name": "Python 3",
   "language": "python",
   "name": "python3"
  },
  "language_info": {
   "codemirror_mode": {
    "name": "ipython",
    "version": 3
   },
   "file_extension": ".py",
   "mimetype": "text/x-python",
   "name": "python",
   "nbconvert_exporter": "python",
   "pygments_lexer": "ipython3",
   "version": "3.7.4"
  }
 },
 "nbformat": 4,
 "nbformat_minor": 2
}
